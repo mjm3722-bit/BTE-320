{
  "nbformat": 4,
  "nbformat_minor": 0,
  "metadata": {
    "colab": {
      "provenance": [],
      "authorship_tag": "ABX9TyNkNZ+4jz3xEaWqWoXwnpiY",
      "include_colab_link": true
    },
    "kernelspec": {
      "name": "python3",
      "display_name": "Python 3"
    },
    "language_info": {
      "name": "python"
    }
  },
  "cells": [
    {
      "cell_type": "markdown",
      "metadata": {
        "id": "view-in-github",
        "colab_type": "text"
      },
      "source": [
        "<a href=\"https://colab.research.google.com/github/mjm3722-bit/BTE-320/blob/main/BTE320InClassAssignments.ipynb\" target=\"_parent\"><img src=\"https://colab.research.google.com/assets/colab-badge.svg\" alt=\"Open In Colab\"/></a>"
      ]
    },
    {
      "cell_type": "code",
      "execution_count": null,
      "metadata": {
        "colab": {
          "base_uri": "https://localhost:8080/"
        },
        "id": "UtT-s-Xa-ewU",
        "outputId": "b7a5c2fe-bdcc-4857-f7cb-ba5cb14c2578"
      },
      "outputs": [
        {
          "output_type": "stream",
          "name": "stdout",
          "text": [
            "Enter Sales($): 12000\n",
            "Enter Cost of Goods Sold(%): 40\n",
            "Enter Tax Rate(%):30\n",
            "Cost of Goods Sold: $ 4800.0\n",
            "Gross Profit: $ 7200.0\n",
            "Taxes: $ 2160.0\n",
            "Net Income: $ 5040.0\n"
          ]
        }
      ],
      "source": [
        "#Inputs: Sales ($), Cost of Goods Sold (%), and Tax Rate (%)\n",
        "sales=input(\"Enter Sales($): \")\n",
        "sales=float(sales)\n",
        "\n",
        "cogs_pct=input(\"Enter Cost of Goods Sold(%): \")\n",
        "cogs_pct=float(cogs_pct)\n",
        "\n",
        "taxrate=input(\"Enter Tax Rate(%):\")\n",
        "taxrate=float(taxrate)\n",
        "\n",
        "#Processes: Calculate Cost of Goods Sold, Gross Profit, Taxes, and Net Income\n",
        "COGS=sales*(cogs_pct/100)\n",
        "grossProfit=sales-COGS\n",
        "tax=(grossProfit)*(taxrate/100)\n",
        "netincome=(grossProfit)-tax\n",
        "\n",
        "#Outputs: Display Cost of Goods Sold, Gross Profit, Taxes, and Net Income\n",
        "print(\"Cost of Goods Sold: $\", COGS)\n",
        "print(\"Gross Profit: $\", grossProfit)\n",
        "print(\"Taxes: $\", tax)\n",
        "print(\"Net Income: $\", netincome)"
      ]
    },
    {
      "cell_type": "code",
      "source": [
        "#Inputs: Demand (units/year), Reorder Cost ($/order), and Holding Cost ($/unit/year)\n",
        "d=input(\"Enter Demand (units/year): \")\n",
        "d=int(d)\n",
        "\n",
        "s=input(\"Enter Reorder Cost ($/order): \")\n",
        "s=float(s)\n",
        "\n",
        "h=input(\"Enter Holding Cost ($/unit/year): \")\n",
        "h=float(h)\n",
        "\n",
        "#Processes: Calculate EOQ\n",
        "EOQ=((2*d*s)/h)**(1/2)\n",
        "\n",
        "#Outputs: Display EOQ\n",
        "print(f\"Economic Order Quantity: {round(EOQ)} units \")"
      ],
      "metadata": {
        "colab": {
          "base_uri": "https://localhost:8080/"
        },
        "id": "cOo9593umdgf",
        "outputId": "36cc7de0-3ae5-46d5-bee2-25023730f00b"
      },
      "execution_count": null,
      "outputs": [
        {
          "output_type": "stream",
          "name": "stdout",
          "text": [
            "Enter Demand (units/year): 1000\n",
            "Enter Reorder Cost ($/order): 50\n",
            "Enter Holding Cost ($/unit/year): 10\n",
            "Economic Order Quantity: 100 units \n"
          ]
        }
      ]
    },
    {
      "cell_type": "code",
      "source": [
        "n=float(input(\"Enter first number:\"))\n",
        "t=float(input(\"Enter second number:\"))\n",
        "o=str(input(\"Enter operator:\"))\n",
        "if o==\"+\":\n",
        "  print(n+t)\n",
        "elif o==\"-\":\n",
        "  print(n-t)\n",
        "elif o==\"*\":\n",
        "  print(n*t)\n",
        "elif o==\"/\":\n",
        "  print(n/t)\n",
        "elif o==\"%\":\n",
        "  print(n%t)\n",
        "elif o==\"**\":\n",
        "  print(n**t)\n",
        "elif o==\"//\":\n",
        "  print(n//t)\n",
        "else:\n",
        "  print(\"Invalid operator\")"
      ],
      "metadata": {
        "colab": {
          "base_uri": "https://localhost:8080/"
        },
        "id": "PXZESyTtpuGI",
        "outputId": "f8966fc8-0927-425d-fd1d-e73d14eb94dd"
      },
      "execution_count": null,
      "outputs": [
        {
          "output_type": "stream",
          "name": "stdout",
          "text": [
            "Enter first number:9\n",
            "Enter second number:6\n",
            "Enter operator:%\n",
            "3.0\n"
          ]
        }
      ]
    },
    {
      "cell_type": "code",
      "source": [
        "for hour in range(1,9):\n",
        "  fee=5+2.5*hour\n",
        "  if fee<10:\n",
        "    fee=10.0\n",
        "  elif fee>20:\n",
        "    fee=20.0\n",
        "  print(hour,fee)\n"
      ],
      "metadata": {
        "colab": {
          "base_uri": "https://localhost:8080/"
        },
        "id": "lAiBQR2Y9wH6",
        "outputId": "0d320218-d2b4-4797-f918-0cd1b211a9f9"
      },
      "execution_count": 25,
      "outputs": [
        {
          "output_type": "stream",
          "name": "stdout",
          "text": [
            "1 10.0\n",
            "2 10.0\n",
            "3 12.5\n",
            "4 15.0\n",
            "5 17.5\n",
            "6 20.0\n",
            "7 20.0\n",
            "8 20.0\n"
          ]
        }
      ]
    }
  ]
}