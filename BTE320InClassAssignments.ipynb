{
  "nbformat": 4,
  "nbformat_minor": 0,
  "metadata": {
    "colab": {
      "provenance": [],
      "authorship_tag": "ABX9TyMJsusKokU3ATW/2A0o71cD",
      "include_colab_link": true
    },
    "kernelspec": {
      "name": "python3",
      "display_name": "Python 3"
    },
    "language_info": {
      "name": "python"
    }
  },
  "cells": [
    {
      "cell_type": "markdown",
      "metadata": {
        "id": "view-in-github",
        "colab_type": "text"
      },
      "source": [
        "<a href=\"https://colab.research.google.com/github/mjm3722-bit/BTE-320/blob/main/BTE320InClassAssignments.ipynb\" target=\"_parent\"><img src=\"https://colab.research.google.com/assets/colab-badge.svg\" alt=\"Open In Colab\"/></a>"
      ]
    },
    {
      "cell_type": "code",
      "execution_count": null,
      "metadata": {
        "colab": {
          "base_uri": "https://localhost:8080/"
        },
        "id": "UtT-s-Xa-ewU",
        "outputId": "7acd9adc-739d-4285-ff2c-b00ffddb06ff"
      },
      "outputs": [
        {
          "output_type": "stream",
          "name": "stdout",
          "text": [
            "Enter Sales($): 700\n",
            "Enter Cost of Goods Sold(%): 30\n",
            "Enter Tax Rate(%):5\n",
            "Cost of Goods Sold: $ 210.0\n",
            "Gross Profit: $ 490.0\n",
            "Taxes: $ 24.5\n",
            "Net Income: $ 465.5\n"
          ]
        }
      ],
      "source": [
        "#Inputs: Sales ($), Cost of Goods Sold (%), and Tax Rate (%)\n",
        "sales=input(\"Enter Sales($): \")\n",
        "sales=float(sales)\n",
        "\n",
        "cogs_pct=input(\"Enter Cost of Goods Sold(%): \")\n",
        "cogs_pct=float(cogs_pct)\n",
        "\n",
        "taxrate=input(\"Enter Tax Rate(%):\")\n",
        "taxrate=float(taxrate)\n",
        "\n",
        "#Processes: Calculate Cost of Goods Sold, Gross Profit, Taxes, and Net Income\n",
        "COGS=sales*(cogs_pct/100)\n",
        "grossProfit=sales-COGS\n",
        "tax=(grossProfit)*(taxrate/100)\n",
        "netincome=(grossProfit)-tax\n",
        "\n",
        "#Outputs: Display Cost of Goods Sold, Gross Profit, Taxes, and Net Income\n",
        "print(\"Cost of Goods Sold: $\", COGS)\n",
        "print(\"Gross Profit: $\", grossProfit)\n",
        "print(\"Taxes: $\", tax)\n",
        "print(\"Net Income: $\", netincome)"
      ]
    },
    {
      "cell_type": "code",
      "source": [
        "#Inputs: Demand (units/year), Reorder Cost ($/order), and Holding Cost ($/unit/year)\n",
        "d=input(\"Enter Demand (units/year): \")\n",
        "d=int(d)\n",
        "\n",
        "s=input(\"Enter Reorder Cost ($/order): \")\n",
        "s=float(s)\n",
        "\n",
        "h=input(\"Enter Holding Cost ($/unit/year): \")\n",
        "h=float(h)\n",
        "\n",
        "#Processes: Calculate EOQ\n",
        "EOQ=((2*d*s)/h)**(1/2)\n",
        "\n",
        "#Outputs: Display EOQ\n",
        "print(f\"Economic Order Quantity: {round(EOQ)} units \")"
      ],
      "metadata": {
        "colab": {
          "base_uri": "https://localhost:8080/"
        },
        "id": "cOo9593umdgf",
        "outputId": "27d22ca4-7cd5-4ded-e046-4420648f1c15"
      },
      "execution_count": null,
      "outputs": [
        {
          "output_type": "stream",
          "name": "stdout",
          "text": [
            "Enter Demand (units/year): 800\n",
            "Enter Reorder Cost ($/order): 25\n",
            "Enter Holding Cost ($/unit/year): 10\n",
            "Economic Order Quantity: 63 units \n"
          ]
        }
      ]
    },
    {
      "cell_type": "code",
      "source": [
        "n=float(input(\"Enter first number:\"))\n",
        "t=float(input(\"Enter second number:\"))\n",
        "o=str(input(\"Enter operator:\"))\n",
        "if o==\"+\":\n",
        "  print(n+t)\n",
        "elif o==\"-\":\n",
        "  print(n-t)\n",
        "elif o==\"*\":\n",
        "  print(n*t)\n",
        "elif o==\"/\":\n",
        "  print(n/t)\n",
        "elif o==\"%\":\n",
        "  print(n%t)\n",
        "elif o==\"**\":\n",
        "  print(n**t)\n",
        "elif o==\"//\":\n",
        "  print(n//t)\n",
        "else:\n",
        "  print(\"Invalid operator\")"
      ],
      "metadata": {
        "colab": {
          "base_uri": "https://localhost:8080/"
        },
        "id": "PXZESyTtpuGI",
        "outputId": "deda7f45-b231-4fa6-a268-837de6c40fd4"
      },
      "execution_count": null,
      "outputs": [
        {
          "output_type": "stream",
          "name": "stdout",
          "text": [
            "Enter first number:8\n",
            "Enter second number:9\n",
            "Enter operator:-\n",
            "-1.0\n"
          ]
        }
      ]
    },
    {
      "cell_type": "code",
      "source": [
        "for hour in range(1,9):\n",
        "  fee=5+2.5*hour\n",
        "  if fee<10:\n",
        "    fee=10.0\n",
        "  elif fee>20:\n",
        "    fee=20.0\n",
        "  print(hour,fee)\n"
      ],
      "metadata": {
        "colab": {
          "base_uri": "https://localhost:8080/"
        },
        "id": "lAiBQR2Y9wH6",
        "outputId": "0539683d-5ba5-42d8-cffc-66574c2dd3ef"
      },
      "execution_count": null,
      "outputs": [
        {
          "output_type": "stream",
          "name": "stdout",
          "text": [
            "1 10.0\n",
            "2 10.0\n",
            "3 12.5\n",
            "4 15.0\n",
            "5 17.5\n",
            "6 20.0\n",
            "7 20.0\n",
            "8 20.0\n"
          ]
        }
      ]
    },
    {
      "cell_type": "code",
      "source": [
        "for ad in range(0,201,25):\n",
        "  rev=(20+2*ad**0.5)*10\n",
        "  costs=200+ad\n",
        "  profit=rev-costs\n",
        "  print(f\"${ad} ${round(profit,2)}\")\n"
      ],
      "metadata": {
        "colab": {
          "base_uri": "https://localhost:8080/"
        },
        "id": "JauuqQyOtfJi",
        "outputId": "1a73a1d7-ef32-4d73-9333-4385257d2de1"
      },
      "execution_count": null,
      "outputs": [
        {
          "output_type": "stream",
          "name": "stdout",
          "text": [
            "$0 $0.0\n",
            "$25 $75.0\n",
            "$50 $91.42\n",
            "$75 $98.21\n",
            "$100 $100.0\n",
            "$125 $98.61\n",
            "$150 $94.95\n",
            "$175 $89.58\n",
            "$200 $82.84\n"
          ]
        }
      ]
    }
  ]
}