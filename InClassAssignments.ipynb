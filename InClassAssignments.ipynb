{
  "nbformat": 4,
  "nbformat_minor": 0,
  "metadata": {
    "colab": {
      "provenance": [],
      "authorship_tag": "ABX9TyPO7qhKLbE/b+0OHJaDY+aH",
      "include_colab_link": true
    },
    "kernelspec": {
      "name": "python3",
      "display_name": "Python 3"
    },
    "language_info": {
      "name": "python"
    }
  },
  "cells": [
    {
      "cell_type": "markdown",
      "metadata": {
        "id": "view-in-github",
        "colab_type": "text"
      },
      "source": [
        "<a href=\"https://colab.research.google.com/github/mjm3722-bit/BTE-320/blob/main/InClassAssignments.ipynb\" target=\"_parent\"><img src=\"https://colab.research.google.com/assets/colab-badge.svg\" alt=\"Open In Colab\"/></a>"
      ]
    },
    {
      "cell_type": "code",
      "execution_count": 15,
      "metadata": {
        "colab": {
          "base_uri": "https://localhost:8080/"
        },
        "id": "UtT-s-Xa-ewU",
        "outputId": "b7a5c2fe-bdcc-4857-f7cb-ba5cb14c2578"
      },
      "outputs": [
        {
          "output_type": "stream",
          "name": "stdout",
          "text": [
            "Enter Sales($): 12000\n",
            "Enter Cost of Goods Sold(%): 40\n",
            "Enter Tax Rate(%):30\n",
            "Cost of Goods Sold: $ 4800.0\n",
            "Gross Profit: $ 7200.0\n",
            "Taxes: $ 2160.0\n",
            "Net Income: $ 5040.0\n"
          ]
        }
      ],
      "source": [
        "#Inputs: Sales ($), Cost of Goods Sold (%), and Tax Rate (%)\n",
        "sales=input(\"Enter Sales($): \")\n",
        "sales=float(sales)\n",
        "\n",
        "cogs_pct=input(\"Enter Cost of Goods Sold(%): \")\n",
        "cogs_pct=float(cogs_pct)\n",
        "\n",
        "taxrate=input(\"Enter Tax Rate(%):\")\n",
        "taxrate=float(taxrate)\n",
        "\n",
        "#Processes: Calculate Cost of Goods Sold, Gross Profit, Taxes, and Net Income\n",
        "COGS=sales*(cogs_pct/100)\n",
        "grossProfit=sales-COGS\n",
        "tax=(grossProfit)*(taxrate/100)\n",
        "netincome=(grossProfit)-tax\n",
        "\n",
        "#Outputs: Display Cost of Goods Sold, Gross Profit, Taxes, and Net Income\n",
        "print(\"Cost of Goods Sold: $\", COGS)\n",
        "print(\"Gross Profit: $\", grossProfit)\n",
        "print(\"Taxes: $\", tax)\n",
        "print(\"Net Income: $\", netincome)"
      ]
    }
  ]
}