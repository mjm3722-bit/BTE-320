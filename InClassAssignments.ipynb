{
  "nbformat": 4,
  "nbformat_minor": 0,
  "metadata": {
    "colab": {
      "provenance": [],
      "authorship_tag": "ABX9TyM3A0kmML9IuxxaPGtmqdpK",
      "include_colab_link": true
    },
    "kernelspec": {
      "name": "python3",
      "display_name": "Python 3"
    },
    "language_info": {
      "name": "python"
    }
  },
  "cells": [
    {
      "cell_type": "markdown",
      "metadata": {
        "id": "view-in-github",
        "colab_type": "text"
      },
      "source": [
        "<a href=\"https://colab.research.google.com/github/mjm3722-bit/BTE-320/blob/main/InClassAssignments.ipynb\" target=\"_parent\"><img src=\"https://colab.research.google.com/assets/colab-badge.svg\" alt=\"Open In Colab\"/></a>"
      ]
    },
    {
      "cell_type": "code",
      "execution_count": null,
      "metadata": {
        "colab": {
          "base_uri": "https://localhost:8080/"
        },
        "id": "UtT-s-Xa-ewU",
        "outputId": "b7a5c2fe-bdcc-4857-f7cb-ba5cb14c2578"
      },
      "outputs": [
        {
          "output_type": "stream",
          "name": "stdout",
          "text": [
            "Enter Sales($): 12000\n",
            "Enter Cost of Goods Sold(%): 40\n",
            "Enter Tax Rate(%):30\n",
            "Cost of Goods Sold: $ 4800.0\n",
            "Gross Profit: $ 7200.0\n",
            "Taxes: $ 2160.0\n",
            "Net Income: $ 5040.0\n"
          ]
        }
      ],
      "source": [
        "#Inputs: Sales ($), Cost of Goods Sold (%), and Tax Rate (%)\n",
        "sales=input(\"Enter Sales($): \")\n",
        "sales=float(sales)\n",
        "\n",
        "cogs_pct=input(\"Enter Cost of Goods Sold(%): \")\n",
        "cogs_pct=float(cogs_pct)\n",
        "\n",
        "taxrate=input(\"Enter Tax Rate(%):\")\n",
        "taxrate=float(taxrate)\n",
        "\n",
        "#Processes: Calculate Cost of Goods Sold, Gross Profit, Taxes, and Net Income\n",
        "COGS=sales*(cogs_pct/100)\n",
        "grossProfit=sales-COGS\n",
        "tax=(grossProfit)*(taxrate/100)\n",
        "netincome=(grossProfit)-tax\n",
        "\n",
        "#Outputs: Display Cost of Goods Sold, Gross Profit, Taxes, and Net Income\n",
        "print(\"Cost of Goods Sold: $\", COGS)\n",
        "print(\"Gross Profit: $\", grossProfit)\n",
        "print(\"Taxes: $\", tax)\n",
        "print(\"Net Income: $\", netincome)"
      ]
    },
    {
      "cell_type": "code",
      "source": [
        "#Inputs: Demand (units/year), Reorder Cost ($/order), and Holding Cost ($/unit/year)\n",
        "d=input(\"Enter Demand (units/year): \")\n",
        "d=int(d)\n",
        "\n",
        "s=input(\"Enter Reorder Cost ($/order): \")\n",
        "s=float(s)\n",
        "\n",
        "h=input(\"Enter Holding Cost ($/unit/year): \")\n",
        "h=float(h)\n",
        "\n",
        "#Processes: Calculate EOQ\n",
        "EOQ=((2*d*s)/h)**(1/2)\n",
        "\n",
        "#Outputs: Display EOQ\n",
        "print(f\"Economic Order Quantity: {round(EOQ)} units \")"
      ],
      "metadata": {
        "colab": {
          "base_uri": "https://localhost:8080/"
        },
        "id": "cOo9593umdgf",
        "outputId": "36cc7de0-3ae5-46d5-bee2-25023730f00b"
      },
      "execution_count": 14,
      "outputs": [
        {
          "output_type": "stream",
          "name": "stdout",
          "text": [
            "Enter Demand (units/year): 1000\n",
            "Enter Reorder Cost ($/order): 50\n",
            "Enter Holding Cost ($/unit/year): 10\n",
            "Economic Order Quantity: 100 units \n"
          ]
        }
      ]
    }
  ]
}